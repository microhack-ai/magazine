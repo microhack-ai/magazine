{
 "cells": [
  {
   "cell_type": "code",
   "execution_count": 41,
   "metadata": {},
   "outputs": [],
   "source": [
    "import os\n",
    "import tiktoken\n",
    "from langchain.text_splitter import RecursiveCharacterTextSplitter\n",
    "from langchain.vectorstores import Chroma\n",
    "from langchain.document_loaders import TextLoader\n",
    "from langchain.document_loaders import YoutubeLoader\n",
    "from langchain.embeddings.openai import OpenAIEmbeddings\n",
    "from langchain import PromptTemplate\n",
    "from langchain.llms import OpenAI\n",
    "from langchain.chains import VectorDBQA\n",
    "from langchain.chains import LLMChain\n",
    "from typing import List\n",
    "from dotenv import load_dotenv"
   ]
  },
  {
   "cell_type": "markdown",
   "metadata": {},
   "source": [
    "### Functions"
   ]
  },
  {
   "cell_type": "code",
   "execution_count": 34,
   "metadata": {},
   "outputs": [],
   "source": [
    "def get_transcript_from_multiple_videos(video_urls: List[str]) -> List:\n",
    "    transcripts = []\n",
    "    for video_url in video_urls:\n",
    "        loader = YoutubeLoader.from_youtube_url(video_url)\n",
    "        transcript = loader.load()\n",
    "        transcripts.append(transcript[0].page_content)\n",
    "    return transcripts\n",
    "\n",
    "def num_tokens_from_string(string: str, encoding_name: str) -> int:\n",
    "    encoding = tiktoken.get_encoding(encoding_name)\n",
    "    num_tokens = len(encoding.encode(string))\n",
    "    return num_tokens\n",
    "\n",
    "def create_db_from_textfile(filePath: str, embeddings, persist_dir: str, chunk_size: int) -> Chroma:\n",
    "    raw_document = TextLoader(filePath).load()\n",
    "    text_splitter = RecursiveCharacterTextSplitter.from_tiktoken_encoder(chunk_size=chunk_size, chunk_overlap=0)\n",
    "    docs = text_splitter.split_documents(raw_document)\n",
    "    db = Chroma.from_documents(documents=docs, embedding=embeddings, persist_directory=persist_dir)\n",
    "    return db\n"
   ]
  },
  {
   "cell_type": "markdown",
   "metadata": {},
   "source": [
    "### Download transcript and save it to file"
   ]
  },
  {
   "cell_type": "code",
   "execution_count": 13,
   "metadata": {},
   "outputs": [],
   "source": [
    "galpin_videos = [\n",
    "    # \"https://www.youtube.com/watch?v=zEYE-vcVKy8&list=PLPNW_gerXa4N_PVVoq0Za03YKASSGCazr\",\n",
    "    # \"https://www.youtube.com/watch?v=CyDLbrZK75U&list=PLPNW_gerXa4N_PVVoq0Za03YKASSGCazr&index=2\",\n",
    "    # \"https://www.youtube.com/watch?v=oNkDA2F7CjM&list=PLPNW_gerXa4N_PVVoq0Za03YKASSGCazr&index=3\",\n",
    "    # \"https://www.youtube.com/watch?v=UIy-WQCZd4M&list=PLPNW_gerXa4N_PVVoq0Za03YKASSGCazr&index=4\",\n",
    "    # \"https://www.youtube.com/watch?v=juD99_sPWGU&list=PLPNW_gerXa4N_PVVoq0Za03YKASSGCazr&index=5\",\n",
    "    # \"https://www.youtube.com/watch?v=q37ARYnRDGc&list=PLPNW_gerXa4N_PVVoq0Za03YKASSGCazr&index=6\"\n",
    "]\n",
    "\n",
    "sleep_video =[\n",
    "    \"https://www.youtube.com/watch?v=BMTt8gSl13s\"\n",
    "]\n",
    "\n",
    "video_urls = sleep_video\n",
    "transcript = get_transcript_from_multiple_videos(video_urls=video_urls)\n",
    "\n",
    "filePath = \"hub_sleep.txt\"\n",
    "with open(filePath, \"w\") as file:\n",
    "    for item in transcript:\n",
    "        file.write(\"%s\\n\" % item)"
   ]
  },
  {
   "cell_type": "markdown",
   "metadata": {},
   "source": [
    "### Load from saved file show tokens "
   ]
  },
  {
   "cell_type": "code",
   "execution_count": 14,
   "metadata": {},
   "outputs": [
    {
     "data": {
      "text/plain": [
       "31075"
      ]
     },
     "execution_count": 14,
     "metadata": {},
     "output_type": "execute_result"
    }
   ],
   "source": [
    "interview = ''\n",
    "with open(filePath, \"r\") as file:\n",
    "    interview = file.read()\n",
    "num_tokens_from_string(interview, \"cl100k_base\")"
   ]
  },
  {
   "cell_type": "markdown",
   "metadata": {},
   "source": [
    "### Esto es para ir viendo dado el chunk_size cómo te quedan los textos"
   ]
  },
  {
   "cell_type": "code",
   "execution_count": 15,
   "metadata": {},
   "outputs": [],
   "source": [
    "text_splitter = RecursiveCharacterTextSplitter.from_tiktoken_encoder(\n",
    "    chunk_size=1000, chunk_overlap=0\n",
    ")\n",
    "texts = text_splitter.split_text(interview)\n",
    "idx = 0\n",
    "num_tokens_from_string(texts[idx], \"cl100k_base\")\n",
    "print(texts[idx])"
   ]
  },
  {
   "cell_type": "markdown",
   "metadata": {},
   "source": [
    "### Configuraciones"
   ]
  },
  {
   "cell_type": "code",
   "execution_count": 20,
   "metadata": {},
   "outputs": [
    {
     "name": "stderr",
     "output_type": "stream",
     "text": [
      "/usr/local/Caskroom/miniconda/base/envs/langchain/lib/python3.11/site-packages/langchain/llms/openai.py:200: UserWarning: You are trying to use a chat model. This way of initializing it is no longer supported. Instead, please use: `from langchain.chat_models import ChatOpenAI`\n",
      "  warnings.warn(\n",
      "/usr/local/Caskroom/miniconda/base/envs/langchain/lib/python3.11/site-packages/langchain/llms/openai.py:787: UserWarning: You are trying to use a chat model. This way of initializing it is no longer supported. Instead, please use: `from langchain.chat_models import ChatOpenAI`\n",
      "  warnings.warn(\n"
     ]
    }
   ],
   "source": [
    "# En el archivo tk.env puse OPENAI_API_KEY=\"tu token\"\n",
    "load_dotenv('tk.env')\n",
    "OPENAI_API_KEY = os.getenv(\"OPENAI_API_KEY\")\n",
    "embeddings = OpenAIEmbeddings(openai_api_key=OPENAI_API_KEY)\n",
    "llm = OpenAI(model_name=\"gpt-3.5-turbo-0613\")"
   ]
  },
  {
   "cell_type": "markdown",
   "metadata": {},
   "source": [
    "### Crear la vector database y persistir. Esto para utilizarla y ahorrar llamadas a la api más abajo"
   ]
  },
  {
   "cell_type": "code",
   "execution_count": 35,
   "metadata": {},
   "outputs": [],
   "source": [
    "persist_directory = 'sleep_db'\n",
    "chunk_size = 4000\n",
    "db = create_db_from_textfile(filePath, embeddings, persist_directory, chunk_size)\n",
    "db.persist()"
   ]
  },
  {
   "cell_type": "markdown",
   "metadata": {},
   "source": []
  },
  {
   "cell_type": "code",
   "execution_count": 36,
   "metadata": {},
   "outputs": [],
   "source": [
    "# Usas esto para cargarla y te ahorras los embeddings si ya los hiciste\n",
    "vectordb = Chroma(persist_directory=persist_directory, embedding_function=embeddings)"
   ]
  },
  {
   "cell_type": "markdown",
   "metadata": {},
   "source": [
    "#### Acá me traigo el similarity search. Esto por ejemplo se lo puedo pegar al Web ChatGPT como contexto o más abajo se lo paso al chain"
   ]
  },
  {
   "cell_type": "code",
   "execution_count": 37,
   "metadata": {},
   "outputs": [
    {
     "name": "stdout",
     "output_type": "stream",
     "text": [
      "and sleep, and sleep? GINA POE: Let them sleep. ANDREW HUBERMAN: OK. So that's the one exception. What about-- GINA POE: Just like babies. ANDREW HUBERMAN: OK. GINA POE: When you're developing\n",
      "something in your brain or the rest of your\n",
      "body, you really need sleep to help\n",
      "organize that. Sleep is doing really hard\n",
      "work in organizing our brains and making it develop right. And if we deprive\n",
      "ourselves of sleep, we will-- actually,\n",
      "also just like I said, we have a daily clock. We also have a\n",
      "developmental clock. And we can miss a\n",
      "developmental window if we don't let ourselves\n",
      "sleep extra like we need to. ANDREW HUBERMAN: What other\n",
      "things inhibit growth hormone release or other components\n",
      "of this first stage of sleep? In other words, if I\n",
      "go to sleep religiously every night at\n",
      "10:00 PM, are there things that I, perhaps,\n",
      "do in the preceding hours of the preceding day\n",
      "like ingest caffeine or alcohol that can make that\n",
      "first stage of sleep less effective even if I'm\n",
      "going to sleep at the same time? GINA POE: Alcohol definitely\n",
      "will do that because alcohol is a REM sleep suppressant. And it even suppresses\n",
      "some of that stage two transition to REM with\n",
      "those sleep spindles. And those sleep\n",
      "spindles, we didn't talk about their\n",
      "function yet, but they're really important for moving\n",
      "memories to our cortex. It's a unique time\n",
      "when our hippocampus, like the RAM of our brains,\n",
      "writes it to a hard disk which is the cortex. And it's a unique time\n",
      "when they're connected. So if you don't\n",
      "want to miss that, you don't want to miss\n",
      "REM sleep when it's also a part of the consolidation\n",
      "process and schema changing process, and alcohol in\n",
      "there before we go to sleep will do that. Until we've metabolized alcohol\n",
      "and put it out of our bodies, it will affect our sleep badly. ANDREW HUBERMAN: So\n",
      "probably fair to say no ingestion of alcohol\n",
      "within the four to six hours preceding sleep? GINA POE: Yeah. ANDREW HUBERMAN:\n",
      "Given the half life? GINA POE: Given the half-- ANDREW HUBERMAN: Or at all--\n",
      "or at all would be better. But I know some people\n",
      "refuse to go that way. GINA POE: And maybe\n",
      "a little bit is OK. I don't know what\n",
      "the dose response is. But there are studies out\n",
      "there you can look at. ANDREW HUBERMAN: Great. GINA POE: Yeah. ANDREW HUBERMAN: So we're still\n",
      "in the first stage of sleep. And I apologize for\n",
      "slowing us down. But it sounds like it's\n",
      "an incredibly important, first phase of sleep. What about the second and third\n",
      "90-minute blocks of sleep? Is there anything that\n",
      "makes those unique? What is their signature\n",
      "besides the fact that they come second and third in the night? GINA POE: There's more\n",
      "and more REM sleep the later the night we get. There's also a\n",
      "change in hormones. The growth hormone and melatonin\n",
      "levels are starting to decline. But other hormones\n",
      "are picking up. So it is a really\n",
      "different stage that you also don't want\n",
      "to shortchange yourself on. And I think that's the stage\n",
      "many studies are showing that those are the\n",
      "times in sleep when the most creativity can happen. That's when our dreams can\n",
      "incorporate and put together old and new things\n",
      "together into a new way. And our schema are\n",
      "built during that time. So yeah, we can\n",
      "change our minds best during those phases of sleep. ANDREW HUBERMAN: Could you\n",
      "elaborate a little bit more on schema? GINA POE: Yeah. ANDREW HUBERMAN: No one-- I don't think anyone\n",
      "on this podcast has ever discussed schema. I'm a little bit\n",
      "familiar with schema from my courses on psychology. But it's been a while. So maybe you could just\n",
      "refresh mind and everyone-- GINA POE: Well, it's\n",
      "still a concept. ANDREW HUBERMAN: Sure. GINA POE: Schema-- ANDREW HUBERMAN: How do you--\n",
      "how do you define schema? GINA POE: Right. I think of schema as-- like we have a schema\n",
      "of Christmas, right? We have all kinds of ideas\n"
     ]
    }
   ],
   "source": [
    "query1 = \"sleep importance\"\n",
    "docs = vectordb.similarity_search(query1)\n",
    "\n",
    "# print results\n",
    "print(docs[0].page_content)\n",
    "similarity_result = docs[0].page_content\n"
   ]
  },
  {
   "cell_type": "markdown",
   "metadata": {},
   "source": [
    "### Los templates. Uno de HTML y Otro Markdown"
   ]
  },
  {
   "cell_type": "code",
   "execution_count": 61,
   "metadata": {},
   "outputs": [],
   "source": [
    "templateHTML = \"\"\"\n",
    "\n",
    "Given the context:\n",
    "\"{document}\"\n",
    "\n",
    "Please generate an article for an online magazine using the following HTML structure:\n",
    "\n",
    "---\n",
    "<!DOCTYPE html>\n",
    "<html>\n",
    "<head>\n",
    "    <title>[LLM: Extract a suitable title from the context or craft one that best represents the main theme.]</title>\n",
    "</head>\n",
    "<body>\n",
    "\n",
    "<!-- Header Section -->\n",
    "<div class=\"header\">\n",
    "    <h1>[LLM: Reiterate the blog title.]</h1>\n",
    "    <h3>By [Author Name]</h3>\n",
    "    <p>Date: [LLM: Insert today's date in 'Month Day, Year' format.]</p>\n",
    "</div>\n",
    "\n",
    "<!-- Main Content -->\n",
    "<div class=\"main-content\">\n",
    "\n",
    "    <!-- Introduction -->\n",
    "    <div class=\"section introduction\">\n",
    "        <h2>Introduction</h2>\n",
    "        <p>[LLM: Briefly introduce the topic or the central theme extracted from the context.]</p>\n",
    "        <p>[LLM: Share why this topic is relevant or timely for the readers.]</p>\n",
    "    </div>\n",
    "\n",
    "    <!-- Subheading 1 -->\n",
    "    <div class=\"section\">\n",
    "        <h2>[LLM: Extract or generate a subheading title from the context.]</h2>\n",
    "        <p>[LLM: Extract or write an interesting fact, anecdote, or quote from the context.]</p>\n",
    "        <p>[LLM: Discuss the main points related to this subheading based on the context.]</p>\n",
    "    </div>\n",
    "\n",
    "    <!-- Subheading 2 -->\n",
    "    <div class=\"section\">\n",
    "        <h2>[LLM: Extract or generate another subheading title from the context.]</h2>\n",
    "        <p>[LLM: Dive deeper into the topic using the context, sharing more specifics.]</p>\n",
    "        <p>[LLM: Consider using bullet points or numbered lists for clarity based on the context.]</p>\n",
    "    </div>\n",
    "\n",
    "    <!-- Subheading 3 -->\n",
    "    <div class=\"section\">\n",
    "        <h2>[LLM: Extract or generate another subheading title from the context.]</h2>\n",
    "        <p>[LLM: Discuss contrasting views, recent advancements, or personal experiences from the context.]</p>\n",
    "        <p>[LLM: Highlight expert opinions or quotes from the context to build credibility.]</p>\n",
    "    </div>\n",
    "\n",
    "    <!-- Conclusion -->\n",
    "    <div class=\"section conclusion\">\n",
    "        <h2>Conclusion</h2>\n",
    "        <p>[LLM: Summarize the main points discussed in the article.]</p>\n",
    "        <p>[LLM: Share your final thoughts or personal takeaways based on the context.]</p>\n",
    "        <p>[LLM: End with a question or call-to-action (CTA) to engage readers in comments or sharing.]</p>\n",
    "    </div>\n",
    "\n",
    "</div>\n",
    "\n",
    "<!-- Author Bio -->\n",
    "<div class=\"author-bio\">\n",
    "    <h3>About the Author</h3>\n",
    "    <p>[LLM: Craft a short description of the author using the context or provide a generic background. Optionally, use links if mentioned in context.]</p>\n",
    "</div>\n",
    "\n",
    "<!-- Related Posts -->\n",
    "<div class=\"related-posts\">\n",
    "    <h3>Related Posts</h3>\n",
    "    <ul>\n",
    "        <li>[LLM: If there are any related articles mentioned in the context, list them here.]</li>\n",
    "    </ul>\n",
    "</div>\n",
    "\n",
    "<!-- Comments Section -->\n",
    "<div class=\"comments-section\">\n",
    "    <h3>Leave a Comment Below:</h3>\n",
    "    <form>\n",
    "        <textarea></textarea>\n",
    "        <button type=\"submit\">Submit</button>\n",
    "    </form>\n",
    "</div>\n",
    "\n",
    "</body>\n",
    "</html>\n",
    "\n",
    "\"\"\""
   ]
  },
  {
   "cell_type": "code",
   "execution_count": null,
   "metadata": {},
   "outputs": [],
   "source": [
    "templateMD = \"\"\"\n",
    "Given the context:\n",
    "\"{document}\"\n",
    "\n",
    "Please generate an article for an online magazine using the following structure:\n",
    "\n",
    "---\n",
    "layout: post\n",
    "title: \"[LLM: Extract a suitable title from the context or craft one that best represents the main theme.]\"\n",
    "author: \"[Your Name or LLM: Suggest an author name based on the context.]\"\n",
    "date: \"[LLM: Insert today's date in 'YYYY-MM-DD' format.]\"\n",
    "---\n",
    "\n",
    "![Header Image](URL_TO_YOUR_IMAGE)\n",
    "\n",
    "# [LLM: Reiterate the blog title.]\n",
    "\n",
    "**By [Author Name]**  \n",
    "*Date [Month Day, Year]*\n",
    "\n",
    "## Introduction\n",
    "- [LLM: Briefly introduce the topic or the central theme extracted from the context.]\n",
    "- [LLM: Share why this topic is relevant or timely for the readers.]\n",
    "\n",
    "## [LLM: Extract or generate a subheading title from the context.]\n",
    "- [LLM: Extract or write an interesting fact, anecdote, or quote from the context.]\n",
    "- [LLM: Discuss the main points related to this subheading based on the context.]\n",
    "\n",
    "## [LLM: Extract or generate another subheading title from the context.]\n",
    "- [LLM: Dive deeper into the topic using the context, sharing more specifics.]\n",
    "- [LLM: Consider using bullet points or numbered lists for clarity based on the context.]\n",
    "\n",
    "## [LLM: Extract or generate another subheading title from the context.]\n",
    "- [LLM: Discuss contrasting views, recent advancements, or personal experiences from the context.]\n",
    "- [LLM: Highlight expert opinions or quotes from the context to build credibility.]\n",
    "\n",
    "## Conclusion\n",
    "- [LLM: Summarize the main points discussed in the article.]\n",
    "- [LLM: Share your final thoughts or personal takeaways based on the context.]\n",
    "- [LLM: End with a question or call-to-action (CTA) to engage readers in comments or sharing.]\n",
    "\n",
    "---\n",
    "\n",
    "#### Author Bio:\n",
    "[LLM: Craft a short description of the author using the context or provide a generic background. Optionally, use links if mentioned in context.]  \n",
    "\n",
    "---\n",
    "\n",
    "### Related Posts\n",
    "- [LLM: If there are any related articles mentioned in the context, list them here.]\n",
    "\n",
    "---\n",
    "\n",
    "**Leave a Comment Below:**\n",
    "\n",
    "\"\"\""
   ]
  },
  {
   "cell_type": "markdown",
   "metadata": {},
   "source": [
    "### Finalmente ejecutas la llamada"
   ]
  },
  {
   "cell_type": "code",
   "execution_count": 62,
   "metadata": {},
   "outputs": [
    {
     "name": "stdout",
     "output_type": "stream",
     "text": [
      "<!DOCTYPE html>\n",
      "<html>\n",
      "<head>\n",
      "    <title>The Importance of Sleep and its Impact on Brain Development</title>\n",
      "</head>\n",
      "<body>\n",
      "\n",
      "<!-- Header Section -->\n",
      "<div class=\"header\">\n",
      "    <h1>The Importance of Sleep and its Impact on Brain Development</h1>\n",
      "    <h3>By SleepEnthusiast123</h3>\n",
      "    <p>Date: October 10, 2022</p>\n",
      "</div>\n",
      "\n",
      "<!-- Main Content -->\n",
      "<div class=\"main-content\">\n",
      "\n",
      "    <!-- Introduction -->\n",
      "    <div class=\"section introduction\">\n",
      "        <h2>Introduction</h2>\n",
      "        <p>Sleep is an essential aspect of our lives, and its significance goes beyond mere rest and relaxation. Recent research has shed light on the crucial role sleep plays in brain development and overall cognitive function. In this article, we will explore the various stages of sleep and delve into how they contribute to the growth and organization of our brains.</p>\n",
      "        <p>Understanding the impact of sleep on brain development is particularly important for individuals seeking to optimize their mental capabilities and enhance their creativity and problem-solving skills.</p>\n",
      "    </div>\n",
      "\n",
      "    <!-- Subheading 1 -->\n",
      "    <div class=\"section\">\n",
      "        <h2>The First Stage of Sleep: A Critical Period for Brain Development</h2>\n",
      "        <p>During the first stage of sleep, our brains engage in intensive work to organize and develop vital neural connections. Just like babies, who require an ample amount of sleep for their brains to develop properly, adults also benefit from adequate sleep for optimal cognitive functioning.</p>\n",
      "        <p>Sleep helps consolidate our memories and facilitates the transfer of information from the hippocampus to the cortex. Depriving ourselves of sufficient sleep can disrupt this crucial process and impede our ability to learn and retain information effectively.</p>\n",
      "        <p>It's important to note that sleep deprivation can also lead to missed developmental windows, affecting our overall brain development. Therefore, allowing ourselves to sleep extra when we need to is essential for maximizing our brain's potential.</p>\n",
      "    </div>\n",
      "\n",
      "    <!-- Subheading 2 -->\n",
      "    <div class=\"section\">\n",
      "        <h2>The Influence of External Factors on Sleep Quality</h2>\n",
      "        <p>While maintaining a consistent sleep schedule is crucial, certain factors can impede the effectiveness of the first stage of sleep. Substances like alcohol, for example, act as REM sleep suppressants, hindering the transition to REM sleep and disrupting the consolidation of memories.</p>\n",
      "        <p>Alcohol should ideally be avoided within the four to six hours preceding sleep to ensure a quality sleep experience. Studies suggest that even small amounts of alcohol can have a negative impact on sleep, so it is best to exercise caution in consumption.</p>\n",
      "    </div>\n",
      "\n",
      "    <!-- Subheading 3 -->\n",
      "    <div class=\"section\">\n",
      "        <h2>The Significance of Later Stages of Sleep and Schema Development</h2>\n",
      "        <p>As the night progresses, the later stages of sleep bring about increased REM sleep and changes in hormone levels. These stages offer a unique opportunity for creativity and the integration of old and new ideas into new thought patterns.</p>\n",
      "        <p>Schema, a concept within psychology, refers to our mental frameworks and beliefs that shape our understanding of the world. Sleep plays a pivotal role in schema development, helping us refine and reorganize our existing schemas.</p>\n",
      "        <p>Experts suggest that the second and third 90-minute blocks of sleep are particularly conducive to schema development and cognitive flexibility. It is during these stages that our minds are most receptive to change and open to new perspectives.</p>\n",
      "    </div>\n",
      "\n",
      "    <!-- Conclusion -->\n",
      "    <div class=\"section conclusion\">\n",
      "        <h2>Conclusion</h2>\n",
      "        <p>Sleep is not just a time of rest; it is a critical period for brain development and cognitive enhancement. Understanding the different stages of sleep and their impact on neural connections and schema development can vastly improve our overall mental capabilities.</p>\n",
      "        <p>By prioritizing sleep and avoiding substances like alcohol that can disrupt the quality of our sleep, we can harness the full potential of our brains. Let's embrace healthy sleep habits and give our minds the opportunity to thrive during every stage of sleep.</p>\n",
      "        <p>How has sleep affected your cognitive abilities? Share your experiences and thoughts in the comment section below!</p>\n",
      "    </div>\n",
      "\n",
      "</div>\n",
      "\n",
      "<!-- Author Bio -->\n",
      "<div class=\"author-bio\">\n",
      "    <h3>About the Author</h3>\n",
      "    <p>SleepEnthusiast123 is a passionate advocate for quality sleep and its impact on overall well-being. With a background in psychology, they strive to educate others on the importance of sleep hygiene and optimizing brain function through healthy sleep habits.</p>\n",
      "</div>\n",
      "\n",
      "<!-- Related Posts -->\n",
      "<div class=\"related-posts\">\n",
      "    <h3>Related Posts</h3>\n",
      "    <ul>\n",
      "        <li><a href=\"#\">The Science of Sleep: Unraveling the Mysteries of Dreams</a></li>\n",
      "        <li><a href=\"#\">Maximizing Productivity: The Role of Sleep in Efficiency</a></li>\n",
      "    </ul>\n",
      "</div>\n",
      "\n",
      "<!-- Comments Section -->\n",
      "<div class=\"comments-section\">\n",
      "    <h3>Leave a Comment Below:</h3>\n",
      "    <form>\n",
      "        <textarea></textarea>\n",
      "        <button type=\"submit\">Submit</button>\n",
      "    </form>\n",
      "</div>\n",
      "\n",
      "</body>\n",
      "</html>\n"
     ]
    }
   ],
   "source": [
    "template = templateMD\n",
    "llm = OpenAI(model_name=\"gpt-3.5-turbo-0613\")\n",
    "# llm = OpenAI(model_name=\"gpt-4\")\n",
    "prompt = PromptTemplate(input_variables=[\"document\"], template=template)\n",
    "chain = LLMChain(llm=llm, prompt=prompt)\n",
    "chain_result = chain.run(document=similarity_result)\n",
    "print(chain_result)"
   ]
  }
 ],
 "metadata": {
  "kernelspec": {
   "display_name": "langchain",
   "language": "python",
   "name": "python3"
  },
  "language_info": {
   "codemirror_mode": {
    "name": "ipython",
    "version": 3
   },
   "file_extension": ".py",
   "mimetype": "text/x-python",
   "name": "python",
   "nbconvert_exporter": "python",
   "pygments_lexer": "ipython3",
   "version": "3.11.4"
  },
  "orig_nbformat": 4
 },
 "nbformat": 4,
 "nbformat_minor": 2
}
